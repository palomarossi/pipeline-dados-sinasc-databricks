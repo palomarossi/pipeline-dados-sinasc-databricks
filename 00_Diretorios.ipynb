{
 "cells": [
  {
   "cell_type": "markdown",
   "metadata": {
    "application/vnd.databricks.v1+cell": {
     "cellMetadata": {
      "byteLimit": 2048000,
      "rowLimit": 10000
     },
     "inputWidgets": {},
     "nuid": "9f8d3d8e-bb93-4b3c-a268-f3e6e1f362f8",
     "showTitle": false,
     "tableResultSettingsMap": {},
     "title": ""
    }
   },
   "source": [
    "Este notebook cria a estrutura de diretórios padrão para a arquitetura Medallion (Bronze, Silver, Gold) e a Landing Zone no Databricks File System (DBFS). Esta é a base para organizar todos os dados do projeto \"Health Insights Brasil\"."
   ]
  },
  {
   "cell_type": "markdown",
   "metadata": {
    "application/vnd.databricks.v1+cell": {
     "cellMetadata": {
      "byteLimit": 2048000,
      "rowLimit": 10000
     },
     "inputWidgets": {},
     "nuid": "cf433a11-6250-4aac-9e51-014a80eb1dd0",
     "showTitle": false,
     "tableResultSettingsMap": {},
     "title": ""
    }
   },
   "source": [
    "### 1. Configuração das Variáveis de Caminho\n",
    "\n",
    "Nesta célula, definimos todas as variáveis que conterão os caminhos para cada camada do nosso Lakehouse. Usar uma variável `root_path` torna o projeto portátil e fácil de manter."
   ]
  },
  {
   "cell_type": "code",
   "execution_count": 0,
   "metadata": {
    "application/vnd.databricks.v1+cell": {
     "cellMetadata": {
      "byteLimit": 2048000,
      "rowLimit": 10000
     },
     "inputWidgets": {},
     "nuid": "ab625bc2-c371-432b-aa1c-b392cd7596db",
     "showTitle": false,
     "tableResultSettingsMap": {},
     "title": ""
    }
   },
   "outputs": [
    {
     "output_type": "stream",
     "name": "stdout",
     "output_type": "stream",
     "text": [
      "Lista de diretórios a serem criados:\n['/lakehouse/health_insights_brasil/landing_zone/sinasc', '/lakehouse/health_insights_brasil/bronze/sinasc', '/lakehouse/health_insights_brasil/silver/sinasc', '/lakehouse/health_insights_brasil/gold/sinasc']\n"
     ]
    }
   ],
   "source": [
    "# --- CONFIGURAÇÃO DA FONTE DE DADOS ---\n",
    "# Altere esta variável para a fonte de dados atual (sinasc)\n",
    "data_source = \"sinasc\" \n",
    "\n",
    "# --- CONFIGURAÇÃO DOS CAMINHOS ---\n",
    "root_path = \"/lakehouse/health_insights_brasil\"\n",
    "layers = [\"landing_zone\", \"bronze\", \"silver\", \"gold\"]\n",
    "\n",
    "# --- CRIAÇÃO DA LISTA ---\n",
    "# A variável 'directories_to_create' é criada aqui\n",
    "directories_to_create = []\n",
    "for layer in layers:\n",
    "    layer_path = f\"{root_path}/{layer}/{data_source}\"\n",
    "    directories_to_create.append(layer_path)\n",
    "\n",
    "print(\"Lista de diretórios a serem criados:\")\n",
    "print(directories_to_create)"
   ]
  },
  {
   "cell_type": "markdown",
   "metadata": {
    "application/vnd.databricks.v1+cell": {
     "cellMetadata": {
      "byteLimit": 2048000,
      "rowLimit": 10000
     },
     "inputWidgets": {},
     "nuid": "5b7406fc-605a-4f3b-b8d4-89f1255f31a7",
     "showTitle": false,
     "tableResultSettingsMap": {},
     "title": ""
    }
   },
   "source": [
    "### 2. Criação dos Diretórios\n",
    "\n",
    "Agora, vamos iterar sobre a lista de caminhos e usar o comando `dbutils.fs.mkdirs()` para criar cada um dos diretórios. \n",
    "\n",
    "Este comando é idempotente, o que significa que se o diretório já existir, ele não fará nada e não retornará um erro. Isso é perfeito para garantir que a estrutura exista sem causar problemas ao reexecutar o notebook."
   ]
  },
  {
   "cell_type": "code",
   "execution_count": 0,
   "metadata": {
    "application/vnd.databricks.v1+cell": {
     "cellMetadata": {
      "byteLimit": 2048000,
      "rowLimit": 10000
     },
     "inputWidgets": {},
     "nuid": "4d3fb3d4-9eef-42ae-9778-557df75c59dd",
     "showTitle": false,
     "tableResultSettingsMap": {},
     "title": ""
    }
   },
   "outputs": [
    {
     "output_type": "stream",
     "name": "stdout",
     "output_type": "stream",
     "text": [
      "Iniciando a criação da estrutura de diretórios...\nDiretório garantido: /lakehouse/health_insights_brasil/landing_zone/sinasc\nDiretório garantido: /lakehouse/health_insights_brasil/bronze/sinasc\nDiretório garantido: /lakehouse/health_insights_brasil/silver/sinasc\nDiretório garantido: /lakehouse/health_insights_brasil/gold/sinasc\n\n✅ Estrutura de diretórios criada/verificada com sucesso!\n"
     ]
    }
   ],
   "source": [
    "print(\"Iniciando a criação da estrutura de diretórios...\")\n",
    "\n",
    "for path in directories_to_create:\n",
    "  dbutils.fs.mkdirs(path)\n",
    "  print(f\"Diretório garantido: {path}\")\n",
    "\n",
    "print(\"\\n✅ Estrutura de diretórios criada/verificada com sucesso!\")"
   ]
  },
  {
   "cell_type": "markdown",
   "metadata": {
    "application/vnd.databricks.v1+cell": {
     "cellMetadata": {
      "byteLimit": 2048000,
      "rowLimit": 10000
     },
     "inputWidgets": {},
     "nuid": "0fc8253b-54d5-4c52-abde-244a96d704dc",
     "showTitle": false,
     "tableResultSettingsMap": {},
     "title": ""
    }
   },
   "source": [
    "### 3. Verificação da Estrutura Criada\n",
    "\n",
    "Para confirmar que tudo foi criado corretamente, usamos o comando mágico `%fs ls` para listar o conteúdo do nosso diretório raiz. Você deve ver as pastas `landing_zone`, `bronze`, `silver` e `gold`."
   ]
  },
  {
   "cell_type": "code",
   "execution_count": 0,
   "metadata": {
    "application/vnd.databricks.v1+cell": {
     "cellMetadata": {
      "byteLimit": 2048000,
      "rowLimit": 10000
     },
     "inputWidgets": {},
     "nuid": "16657804-97fb-4f6d-bbf7-476a6d899364",
     "showTitle": false,
     "tableResultSettingsMap": {},
     "title": ""
    }
   },
   "outputs": [
    {
     "output_type": "display_data",
     "data": {
      "text/html": [
       "<style scoped>\n",
       "  .table-result-container {\n",
       "    max-height: 300px;\n",
       "    overflow: auto;\n",
       "  }\n",
       "  table, th, td {\n",
       "    border: 1px solid black;\n",
       "    border-collapse: collapse;\n",
       "  }\n",
       "  th, td {\n",
       "    padding: 5px;\n",
       "  }\n",
       "  th {\n",
       "    text-align: left;\n",
       "  }\n",
       "</style><div class='table-result-container'><table class='table-result'><thead style='background-color: white'><tr><th>path</th><th>name</th><th>size</th><th>modificationTime</th></tr></thead><tbody><tr><td>dbfs:/lakehouse/health_insights_brasil/bronze/</td><td>bronze/</td><td>0</td><td>0</td></tr><tr><td>dbfs:/lakehouse/health_insights_brasil/gold/</td><td>gold/</td><td>0</td><td>0</td></tr><tr><td>dbfs:/lakehouse/health_insights_brasil/landing_zone/</td><td>landing_zone/</td><td>0</td><td>0</td></tr><tr><td>dbfs:/lakehouse/health_insights_brasil/silver/</td><td>silver/</td><td>0</td><td>0</td></tr></tbody></table></div>"
      ]
     },
     "metadata": {
      "application/vnd.databricks.v1+output": {
       "addedWidgets": {},
       "aggData": [],
       "aggError": "",
       "aggOverflow": false,
       "aggSchema": [],
       "aggSeriesLimitReached": false,
       "aggType": "",
       "arguments": {},
       "columnCustomDisplayInfos": {},
       "data": [
        [
         "dbfs:/lakehouse/health_insights_brasil/bronze/",
         "bronze/",
         0,
         0
        ],
        [
         "dbfs:/lakehouse/health_insights_brasil/gold/",
         "gold/",
         0,
         0
        ],
        [
         "dbfs:/lakehouse/health_insights_brasil/landing_zone/",
         "landing_zone/",
         0,
         0
        ],
        [
         "dbfs:/lakehouse/health_insights_brasil/silver/",
         "silver/",
         0,
         0
        ]
       ],
       "datasetInfos": [],
       "dbfsResultPath": null,
       "isJsonSchema": true,
       "metadata": {
        "isDbfsCommandResult": false
       },
       "overflow": false,
       "plotOptions": {
        "customPlotOptions": {},
        "displayType": "table",
        "pivotAggregation": null,
        "pivotColumns": null,
        "xColumns": null,
        "yColumns": null
       },
       "removedWidgets": [],
       "schema": [
        {
         "metadata": "{}",
         "name": "path",
         "type": "\"string\""
        },
        {
         "metadata": "{}",
         "name": "name",
         "type": "\"string\""
        },
        {
         "metadata": "{}",
         "name": "size",
         "type": "\"long\""
        },
        {
         "metadata": "{}",
         "name": "modificationTime",
         "type": "\"long\""
        }
       ],
       "type": "table"
      }
     },
     "output_type": "display_data"
    }
   ],
   "source": [
    "%fs ls /lakehouse/health_insights_brasil"
   ]
  }
 ],
 "metadata": {
  "application/vnd.databricks.v1+notebook": {
   "computePreferences": null,
   "dashboards": [],
   "environmentMetadata": {
    "base_environment": "",
    "environment_version": "1"
   },
   "inputWidgetPreferences": null,
   "language": "python",
   "notebookMetadata": {
    "mostRecentlyExecutedCommandWithImplicitDF": {
     "commandId": 3495877943069490,
     "dataframes": [
      "_sqldf"
     ]
    },
    "pythonIndentUnit": 4
   },
   "notebookName": "00_Diretorios",
   "widgets": {}
  }
 },
 "nbformat": 4,
 "nbformat_minor": 0
}