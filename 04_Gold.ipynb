{
 "cells": [
  {
   "cell_type": "markdown",
   "metadata": {
    "application/vnd.databricks.v1+cell": {
     "cellMetadata": {
      "byteLimit": 2048000,
      "rowLimit": 10000
     },
     "inputWidgets": {},
     "nuid": "12ad7f19-ba61-4f8e-8777-a241d8616377",
     "showTitle": false,
     "tableResultSettingsMap": {},
     "title": ""
    }
   },
   "source": [
    "### 1. Configuração e Carregamento\n",
    "\n",
    "**Objetivo:** Importar as bibliotecas e carregar todas as tabelas das camadas Bronze e Silver que precisaremos."
   ]
  },
  {
   "cell_type": "code",
   "execution_count": 0,
   "metadata": {
    "application/vnd.databricks.v1+cell": {
     "cellMetadata": {
      "byteLimit": 2048000,
      "rowLimit": 10000
     },
     "inputWidgets": {},
     "nuid": "e0313da8-270a-4d76-9e66-d5325bfa70fc",
     "showTitle": false,
     "tableResultSettingsMap": {},
     "title": ""
    }
   },
   "outputs": [
    {
     "output_type": "stream",
     "name": "stdout",
     "output_type": "stream",
     "text": [
      "Carregando tabelas das camadas Bronze e Silver...\n✅ Todas as tabelas, incluindo dim_localidade, foram carregadas.\n"
     ]
    }
   ],
   "source": [
    "from pyspark.sql.functions import col, to_date, substring, concat_ws, when, monotonically_increasing_id\n",
    "from pyspark.sql.types import IntegerType\n",
    "\n",
    "# --- CONFIGURAÇÃO ---\n",
    "data_source = \"sinasc\"\n",
    "root_path = \"/lakehouse/health_insights_brasil\"\n",
    "bronze_table_name = \"default.bronze_sinasc\"\n",
    "gold_path = f\"{root_path}/gold/{data_source}\"\n",
    "fact_table_name = \"fato_nascimento_sinasc\"\n",
    "\n",
    "# --- CARREGAR TABELAS ---\n",
    "print(\"Carregando tabelas das camadas Bronze e Silver...\")\n",
    "df_bronze = spark.table(bronze_table_name)\n",
    "df_dim_tempo = spark.table(\"default.dim_tempo_sinasc\")\n",
    "df_dim_parto = spark.table(\"default.dim_parto_sinasc\")\n",
    "df_dim_mae = spark.table(\"default.dim_mae_sinasc\")\n",
    "df_dim_localidade = spark.table(\"default.dim_localidade\") \n",
    "\n",
    "print(\"✅ Todas as tabelas, incluindo dim_localidade, foram carregadas.\")"
   ]
  },
  {
   "cell_type": "markdown",
   "metadata": {
    "application/vnd.databricks.v1+cell": {
     "cellMetadata": {
      "byteLimit": 2048000,
      "rowLimit": 10000
     },
     "inputWidgets": {},
     "nuid": "2e88dab1-8fb1-4dd9-acdc-0f8ba6f9be96",
     "showTitle": false,
     "tableResultSettingsMap": {},
     "title": ""
    }
   },
   "source": [
    "### 3. Adicionar Chaves Substitutas (Surrogate Keys) às Outras Dimensões\n",
    "Nesta etapa, adicionamos uma chave numérica única, conhecida como Chave Substituta (Surrogate Key ou SK), para cada uma de nossas tabelas de dimensão. O objetivo principal é otimizar a performance das consultas. É muito mais rápido e eficiente para o sistema de banco de dados conectar a tabela de fatos às dimensões usando um único número (como sk_mae) do que usar uma combinação de múltiplas colunas de texto (como 'Casada' e '8 a 11 anos'). Além de acelerar as análises, esta prática também simplifica a estrutura da nossa tabela de fatos, mantendo-a mais limpa e organizada, contendo apenas as chaves e as métricas."
   ]
  },
  {
   "cell_type": "code",
   "execution_count": 0,
   "metadata": {
    "application/vnd.databricks.v1+cell": {
     "cellMetadata": {
      "byteLimit": 2048000,
      "rowLimit": 10000
     },
     "inputWidgets": {},
     "nuid": "f70d9075-085d-427f-9560-dbd952c06005",
     "showTitle": false,
     "tableResultSettingsMap": {},
     "title": ""
    }
   },
   "outputs": [
    {
     "output_type": "stream",
     "name": "stdout",
     "output_type": "stream",
     "text": [
      "Adicionando chaves substitutas a todas as dimensões...\n✅ Chaves substitutas criadas.\n"
     ]
    }
   ],
   "source": [
    "print(\"Adicionando chaves substitutas a todas as dimensões...\")\n",
    "\n",
    "df_dim_tempo = df_dim_tempo.withColumn(\"sk_tempo\", monotonically_increasing_id())\n",
    "df_dim_parto = df_dim_parto.withColumn(\"sk_parto\", monotonically_increasing_id())\n",
    "df_dim_mae = df_dim_mae.withColumn(\"sk_mae\", monotonically_increasing_id())\n",
    "df_dim_localidade = df_dim_localidade.withColumn(\"sk_localidade\", monotonically_increasing_id())\n",
    "\n",
    "print(\"✅ Chaves substitutas criadas.\")"
   ]
  },
  {
   "cell_type": "markdown",
   "metadata": {
    "application/vnd.databricks.v1+cell": {
     "cellMetadata": {
      "byteLimit": 2048000,
      "rowLimit": 10000
     },
     "inputWidgets": {},
     "nuid": "e45f80a0-8754-440c-8ca2-6da0bada0747",
     "showTitle": false,
     "tableResultSettingsMap": {},
     "title": ""
    }
   },
   "source": [
    "### 3. Preparar e Construir a Tabela Fato\n",
    "\n",
    "**Objetivo:** Preparar a tabela bronze com as colunas decodificadas para o JOIN e construir a tabela fato."
   ]
  },
  {
   "cell_type": "code",
   "execution_count": 0,
   "metadata": {
    "application/vnd.databricks.v1+cell": {
     "cellMetadata": {
      "byteLimit": 2048000,
      "rowLimit": 10000
     },
     "inputWidgets": {},
     "nuid": "8d9c7381-dd22-49be-8b64-6c1694933841",
     "showTitle": false,
     "tableResultSettingsMap": {},
     "title": ""
    }
   },
   "outputs": [
    {
     "output_type": "stream",
     "name": "stdout",
     "output_type": "stream",
     "text": [
      "Preparando e construindo a tabela fato...\n"
     ]
    }
   ],
   "source": [
    "print(\"Preparando e construindo a tabela fato...\")\n",
    "df_bronze_decoded = (df_bronze\n",
    "    .withColumn(\"data_nascimento_corr\", to_date(concat_ws(\"-\", substring(col(\"DTNASC\"), 5, 4), substring(col(\"DTNASC\"), 3, 2), substring(col(\"DTNASC\"), 1, 2))))\n",
    "    .withColumn(\"sexo_desc\", when(col(\"SEXO\") == '1', \"Masculino\").when(col(\"SEXO\") == '2', \"Feminino\").otherwise(\"Ignorado\"))\n",
    "    .withColumn(\"parto_desc\", when(col(\"PARTO\") == '1', \"Vaginal\").when(col(\"PARTO\") == '2', \"Cesáreo\").otherwise(\"Ignorado\"))\n",
    "    .withColumn(\"anomalia_desc\", when(col(\"IDANOMAL\") == '1', \"Sim\").when(col(\"IDANOMAL\") == '2', \"Não\").otherwise(\"Ignorado\"))\n",
    "    .withColumn(\"raca_cor_desc\", when(col(\"RACACOR\") == '1', \"Branca\").when(col(\"RACACOR\") == '2', \"Preta\").when(col(\"RACACOR\") == '3', \"Amarela\").when(col(\"RACACOR\") == '4', \"Parda\").when(col(\"RACACOR\") == '5', \"Indígena\").otherwise(\"Ignorado\"))\n",
    "    .withColumn(\"estado_civil_desc\", when(col(\"ESTCIVMAE\") == '1', \"Solteira\").when(col(\"ESTCIVMAE\") == '2', \"Casada\").when(col(\"ESTCIVMAE\") == '3', \"Viúva\").when(col(\"ESTCIVMAE\") == '4', \"Separado judicialmente/Divorciado\").when(col(\"ESTCIVMAE\") == '5', \"União consensual\").otherwise(\"Ignorado\"))\n",
    "    .withColumn(\"escolaridade_desc\", when(col(\"ESCMAE\") == '1', \"Nenhuma\").when(col(\"ESCMAE\") == '2', \"1 a 3 anos\").when(col(\"ESCMAE\") == '3', \"4 a 7 anos\").when(col(\"ESCMAE\") == '4', \"8 a 11 anos\").when(col(\"ESCMAE\") == '5', \"12 anos e mais\").otherwise(\"Ignorado\"))\n",
    "    .na.fill(value=\"Não Informado\", subset=[\"sexo_desc\", \"parto_desc\", \"anomalia_desc\", \"raca_cor_desc\", \"estado_civil_desc\", \"escolaridade_desc\"])\n",
    ")\n",
    "fato_nascimento = (df_bronze_decoded\n",
    "    .join(df_dim_tempo, df_bronze_decoded.data_nascimento_corr == df_dim_tempo.data_completa, \"left\")\n",
    "    .join(df_dim_parto, [\"sexo_desc\", \"parto_desc\", \"anomalia_desc\", \"raca_cor_desc\"], \"left\")\n",
    "    .join(df_dim_mae, [\"estado_civil_desc\", \"escolaridade_desc\"], \"left\")\n",
    "    .join(df_dim_localidade.alias(\"loc_nasc\"), col(\"CODMUNNASC\") == col(\"loc_nasc.id_municipio_ibge\"), \"left\")\n",
    "    .join(df_dim_localidade.alias(\"loc_res\"), col(\"CODMUNRES\") == col(\"loc_res.id_municipio_ibge\"), \"left\")\n",
    "    .select(\n",
    "        col(\"NUMERODN\").alias(\"id_nascimento\"), col(\"sk_tempo\"), col(\"sk_parto\"), col(\"sk_mae\"),\n",
    "        col(\"loc_nasc.sk_localidade\").alias(\"sk_localidade_nascimento\"),\n",
    "        col(\"loc_res.sk_localidade\").alias(\"sk_localidade_residencia\"),\n",
    "        col(\"loc_nasc.nome_municipio\").alias(\"nome_municipio_nascimento\"),\n",
    "        col(\"loc_res.nome_municipio\").alias(\"nome_municipio_residencia\"),\n",
    "        col(\"PESO\").cast(IntegerType()), col(\"APGAR1\").cast(IntegerType()),\n",
    "        col(\"APGAR5\").cast(IntegerType()), col(\"IDADEMAE\").cast(IntegerType()),\n",
    "        col(\"CONSULTAS\").cast(IntegerType()), col(\"data_nascimento_corr\").alias(\"data_nascimento\")\n",
    "    )\n",
    ")"
   ]
  },
  {
   "cell_type": "markdown",
   "metadata": {
    "application/vnd.databricks.v1+cell": {
     "cellMetadata": {
      "byteLimit": 2048000,
      "rowLimit": 10000
     },
     "inputWidgets": {},
     "nuid": "7a444d7c-3fd2-4b65-99a6-77de600d7976",
     "showTitle": false,
     "tableResultSettingsMap": {},
     "title": ""
    }
   },
   "source": [
    "### 4. Preparar e Construir a Tabela Fato com JOINs\n",
    "\n",
    "**Objetivo:** Unir a tabela de nascimentos com todas as dimensões, incluindo a `dim_localidade`, para trazer as chaves substitutas (SKs) e os nomes dos municípios para a tabela fato."
   ]
  },
  {
   "cell_type": "code",
   "execution_count": 0,
   "metadata": {
    "application/vnd.databricks.v1+cell": {
     "cellMetadata": {
      "byteLimit": 2048000,
      "rowLimit": 10000
     },
     "inputWidgets": {},
     "nuid": "ec6092f9-7b2d-4b47-ab6f-8720a2b68224",
     "showTitle": false,
     "tableResultSettingsMap": {},
     "title": ""
    }
   },
   "outputs": [
    {
     "output_type": "stream",
     "name": "stdout",
     "output_type": "stream",
     "text": [
      "Preparando e construindo a tabela fato...\n✅ Tabela fato construída com sucesso.\n"
     ]
    },
    {
     "output_type": "display_data",
     "data": {
      "text/html": [
       "<style scoped>\n",
       "  .table-result-container {\n",
       "    max-height: 300px;\n",
       "    overflow: auto;\n",
       "  }\n",
       "  table, th, td {\n",
       "    border: 1px solid black;\n",
       "    border-collapse: collapse;\n",
       "  }\n",
       "  th, td {\n",
       "    padding: 5px;\n",
       "  }\n",
       "  th {\n",
       "    text-align: left;\n",
       "  }\n",
       "</style><div class='table-result-container'><table class='table-result'><thead style='background-color: white'><tr><th>id_nascimento</th><th>sk_tempo</th><th>sk_parto</th><th>sk_mae</th><th>sk_localidade_nascimento</th><th>sk_localidade_residencia</th><th>nome_municipio_nascimento</th><th>nome_municipio_residencia</th><th>PESO</th><th>APGAR1</th><th>APGAR5</th><th>IDADEMAE</th><th>CONSULTAS</th><th>data_nascimento</th></tr></thead><tbody><tr><td>110001</td><td>161</td><td>36</td><td>6</td><td>null</td><td>32</td><td>null</td><td>Alta Floresta D'Oeste</td><td>3120</td><td>8</td><td>9</td><td>24</td><td>2</td><td>2024-02-14</td></tr><tr><td>110001</td><td>117</td><td>36</td><td>23</td><td>null</td><td>32</td><td>null</td><td>Alta Floresta D'Oeste</td><td>3564</td><td>8</td><td>9</td><td>29</td><td>4</td><td>2024-04-17</td></tr><tr><td>110001</td><td>26</td><td>36</td><td>20</td><td>null</td><td>32</td><td>null</td><td>Alta Floresta D'Oeste</td><td>2816</td><td>8</td><td>9</td><td>30</td><td>4</td><td>2024-05-29</td></tr><tr><td>110001</td><td>149</td><td>27</td><td>20</td><td>null</td><td>32</td><td>null</td><td>Alta Floresta D'Oeste</td><td>3126</td><td>8</td><td>9</td><td>14</td><td>4</td><td>2024-05-27</td></tr><tr><td>110001</td><td>72</td><td>36</td><td>3</td><td>null</td><td>32</td><td>null</td><td>Alta Floresta D'Oeste</td><td>3622</td><td>8</td><td>9</td><td>24</td><td>4</td><td>2024-05-13</td></tr><tr><td>110001</td><td>39</td><td>24</td><td>26</td><td>null</td><td>32</td><td>null</td><td>Alta Floresta D'Oeste</td><td>2935</td><td>8</td><td>9</td><td>29</td><td>4</td><td>2024-05-08</td></tr><tr><td>110001</td><td>73</td><td>44</td><td>19</td><td>null</td><td>32</td><td>null</td><td>Alta Floresta D'Oeste</td><td>3365</td><td>8</td><td>9</td><td>18</td><td>3</td><td>2024-05-01</td></tr><tr><td>110001</td><td>32</td><td>36</td><td>7</td><td>null</td><td>32</td><td>null</td><td>Alta Floresta D'Oeste</td><td>3298</td><td>8</td><td>9</td><td>29</td><td>4</td><td>2024-06-05</td></tr><tr><td>110002</td><td>165</td><td>18</td><td>20</td><td>null</td><td>6</td><td>null</td><td>Ariquemes</td><td>3240</td><td>8</td><td>9</td><td>20</td><td>4</td><td>2024-01-01</td></tr><tr><td>110002</td><td>165</td><td>36</td><td>21</td><td>null</td><td>681</td><td>null</td><td>Itapuã do Oeste</td><td>3960</td><td>9</td><td>9</td><td>40</td><td>4</td><td>2024-01-01</td></tr></tbody></table></div>"
      ]
     },
     "metadata": {
      "application/vnd.databricks.v1+output": {
       "addedWidgets": {},
       "aggData": [],
       "aggError": "",
       "aggOverflow": false,
       "aggSchema": [],
       "aggSeriesLimitReached": false,
       "aggType": "",
       "arguments": {},
       "columnCustomDisplayInfos": {},
       "data": [
        [
         "110001",
         161,
         36,
         6,
         null,
         32,
         null,
         "Alta Floresta D'Oeste",
         3120,
         8,
         9,
         24,
         2,
         "2024-02-14"
        ],
        [
         "110001",
         117,
         36,
         23,
         null,
         32,
         null,
         "Alta Floresta D'Oeste",
         3564,
         8,
         9,
         29,
         4,
         "2024-04-17"
        ],
        [
         "110001",
         26,
         36,
         20,
         null,
         32,
         null,
         "Alta Floresta D'Oeste",
         2816,
         8,
         9,
         30,
         4,
         "2024-05-29"
        ],
        [
         "110001",
         149,
         27,
         20,
         null,
         32,
         null,
         "Alta Floresta D'Oeste",
         3126,
         8,
         9,
         14,
         4,
         "2024-05-27"
        ],
        [
         "110001",
         72,
         36,
         3,
         null,
         32,
         null,
         "Alta Floresta D'Oeste",
         3622,
         8,
         9,
         24,
         4,
         "2024-05-13"
        ],
        [
         "110001",
         39,
         24,
         26,
         null,
         32,
         null,
         "Alta Floresta D'Oeste",
         2935,
         8,
         9,
         29,
         4,
         "2024-05-08"
        ],
        [
         "110001",
         73,
         44,
         19,
         null,
         32,
         null,
         "Alta Floresta D'Oeste",
         3365,
         8,
         9,
         18,
         3,
         "2024-05-01"
        ],
        [
         "110001",
         32,
         36,
         7,
         null,
         32,
         null,
         "Alta Floresta D'Oeste",
         3298,
         8,
         9,
         29,
         4,
         "2024-06-05"
        ],
        [
         "110002",
         165,
         18,
         20,
         null,
         6,
         null,
         "Ariquemes",
         3240,
         8,
         9,
         20,
         4,
         "2024-01-01"
        ],
        [
         "110002",
         165,
         36,
         21,
         null,
         681,
         null,
         "Itapuã do Oeste",
         3960,
         9,
         9,
         40,
         4,
         "2024-01-01"
        ]
       ],
       "datasetInfos": [],
       "dbfsResultPath": null,
       "isJsonSchema": true,
       "metadata": {},
       "overflow": false,
       "plotOptions": {
        "customPlotOptions": {},
        "displayType": "table",
        "pivotAggregation": null,
        "pivotColumns": null,
        "xColumns": null,
        "yColumns": null
       },
       "removedWidgets": [],
       "schema": [
        {
         "metadata": "{}",
         "name": "id_nascimento",
         "type": "\"string\""
        },
        {
         "metadata": "{}",
         "name": "sk_tempo",
         "type": "\"long\""
        },
        {
         "metadata": "{}",
         "name": "sk_parto",
         "type": "\"long\""
        },
        {
         "metadata": "{}",
         "name": "sk_mae",
         "type": "\"long\""
        },
        {
         "metadata": "{}",
         "name": "sk_localidade_nascimento",
         "type": "\"long\""
        },
        {
         "metadata": "{}",
         "name": "sk_localidade_residencia",
         "type": "\"long\""
        },
        {
         "metadata": "{}",
         "name": "nome_municipio_nascimento",
         "type": "\"string\""
        },
        {
         "metadata": "{}",
         "name": "nome_municipio_residencia",
         "type": "\"string\""
        },
        {
         "metadata": "{}",
         "name": "PESO",
         "type": "\"integer\""
        },
        {
         "metadata": "{}",
         "name": "APGAR1",
         "type": "\"integer\""
        },
        {
         "metadata": "{}",
         "name": "APGAR5",
         "type": "\"integer\""
        },
        {
         "metadata": "{}",
         "name": "IDADEMAE",
         "type": "\"integer\""
        },
        {
         "metadata": "{}",
         "name": "CONSULTAS",
         "type": "\"integer\""
        },
        {
         "metadata": "{}",
         "name": "data_nascimento",
         "type": "\"date\""
        }
       ],
       "type": "table"
      }
     },
     "output_type": "display_data"
    }
   ],
   "source": [
    "print(\"Preparando e construindo a tabela fato...\")\n",
    "\n",
    "# Etapa 1: Prepara a tabela bronze com as colunas decodificadas para o JOIN\n",
    "df_bronze_decoded = (df_bronze\n",
    "    .withColumn(\"data_nascimento_corr\", to_date(concat_ws(\"-\", substring(col(\"DTNASC\"), 5, 4), substring(col(\"DTNASC\"), 3, 2), substring(col(\"DTNASC\"), 1, 2))))\n",
    "    .withColumn(\"sexo_desc\", when(col(\"SEXO\") == '1', \"Masculino\").when(col(\"SEXO\") == '2', \"Feminino\").otherwise(\"Ignorado\"))\n",
    "    .withColumn(\"parto_desc\", when(col(\"PARTO\") == '1', \"Vaginal\").when(col(\"PARTO\") == '2', \"Cesáreo\").otherwise(\"Ignorado\"))\n",
    "    .withColumn(\"anomalia_desc\", when(col(\"IDANOMAL\") == '1', \"Sim\").when(col(\"IDANOMAL\") == '2', \"Não\").otherwise(\"Ignorado\"))\n",
    "    .withColumn(\"raca_cor_desc\", when(col(\"RACACOR\") == '1', \"Branca\").when(col(\"RACACOR\") == '2', \"Preta\").when(col(\"RACACOR\") == '3', \"Amarela\").when(col(\"RACACOR\") == '4', \"Parda\").when(col(\"RACACOR\") == '5', \"Indígena\").otherwise(\"Ignorado\"))\n",
    "    .withColumn(\"estado_civil_desc\", when(col(\"ESTCIVMAE\") == '1', \"Solteira\").when(col(\"ESTCIVMAE\") == '2', \"Casada\").when(col(\"ESTCIVMAE\") == '3', \"Viúva\").when(col(\"ESTCIVMAE\") == '4', \"Separado judicialmente/Divorciado\").when(col(\"ESTCIVMAE\") == '5', \"União consensual\").otherwise(\"Ignorado\"))\n",
    "    .withColumn(\"escolaridade_desc\", when(col(\"ESCMAE\") == '1', \"Nenhuma\").when(col(\"ESCMAE\") == '2', \"1 a 3 anos\").when(col(\"ESCMAE\") == '3', \"4 a 7 anos\").when(col(\"ESCMAE\") == '4', \"8 a 11 anos\").when(col(\"ESCMAE\") == '5', \"12 anos e mais\").otherwise(\"Ignorado\"))\n",
    "    .na.fill(value=\"Não Informado\", subset=[\"sexo_desc\", \"parto_desc\", \"anomalia_desc\", \"raca_cor_desc\", \"estado_civil_desc\", \"escolaridade_desc\"])\n",
    ")\n",
    "\n",
    "# Etapa 2: Une o DataFrame preparado com todas as dimensões\n",
    "fato_nascimento = (df_bronze_decoded\n",
    "    .join(df_dim_tempo, df_bronze_decoded.data_nascimento_corr == df_dim_tempo.data_completa, \"left\")\n",
    "    .join(df_dim_parto, [\"sexo_desc\", \"parto_desc\", \"anomalia_desc\", \"raca_cor_desc\"], \"left\")\n",
    "    .join(df_dim_mae, [\"estado_civil_desc\", \"escolaridade_desc\"], \"left\")\n",
    "    .join(df_dim_localidade.alias(\"loc_nasc\"), col(\"CODMUNNASC\") == col(\"loc_nasc.id_municipio_ibge\"), \"left\")\n",
    "    .join(df_dim_localidade.alias(\"loc_res\"), col(\"CODMUNRES\") == col(\"loc_res.id_municipio_ibge\"), \"left\")\n",
    "    .select(\n",
    "        col(\"NUMERODN\").alias(\"id_nascimento\"),\n",
    "        col(\"sk_tempo\"), \n",
    "        col(\"sk_parto\"), \n",
    "        col(\"sk_mae\"),\n",
    "        col(\"loc_nasc.sk_localidade\").alias(\"sk_localidade_nascimento\"),\n",
    "        col(\"loc_res.sk_localidade\").alias(\"sk_localidade_residencia\"),\n",
    "        col(\"loc_nasc.nome_municipio\").alias(\"nome_municipio_nascimento\"),\n",
    "        col(\"loc_res.nome_municipio\").alias(\"nome_municipio_residencia\"),\n",
    "        col(\"PESO\").cast(IntegerType()), \n",
    "        col(\"APGAR1\").cast(IntegerType()),\n",
    "        col(\"APGAR5\").cast(IntegerType()), \n",
    "        col(\"IDADEMAE\").cast(IntegerType()),\n",
    "        col(\"CONSULTAS\").cast(IntegerType()), \n",
    "        col(\"data_nascimento_corr\").alias(\"data_nascimento\")\n",
    "    )\n",
    ")\n",
    "\n",
    "print(\"✅ Tabela fato construída com sucesso.\")\n",
    "display(fato_nascimento.limit(10))"
   ]
  },
  {
   "cell_type": "markdown",
   "metadata": {
    "application/vnd.databricks.v1+cell": {
     "cellMetadata": {
      "byteLimit": 2048000,
      "rowLimit": 10000
     },
     "inputWidgets": {},
     "nuid": "7dc2f822-3ef7-43de-b453-7a26ef048d0e",
     "showTitle": false,
     "tableResultSettingsMap": {},
     "title": ""
    }
   },
   "source": [
    "### 5. Salvar a Tabela Fato na Camada Gold\n",
    "\n",
    "**Objetivo:** Persistir nossa tabela fato final na camada Gold, particionando por data para otimizar as consultas."
   ]
  },
  {
   "cell_type": "code",
   "execution_count": 0,
   "metadata": {
    "application/vnd.databricks.v1+cell": {
     "cellMetadata": {
      "byteLimit": 2048000,
      "rowLimit": 10000
     },
     "inputWidgets": {},
     "nuid": "725ac2f2-999c-43ba-9a8b-5a137cda6a97",
     "showTitle": false,
     "tableResultSettingsMap": {},
     "title": ""
    }
   },
   "outputs": [
    {
     "output_type": "stream",
     "name": "stdout",
     "output_type": "stream",
     "text": [
      "Limpando e salvando a tabela fato em: /lakehouse/health_insights_brasil/gold/sinasc/fato_nascimento_sinasc\n✅ Tabela 'fato_nascimento_sinasc' criada com sucesso na camada Gold.\n"
     ]
    }
   ],
   "source": [
    "\n",
    "fact_path = f\"{gold_path}/{fact_table_name}\"\n",
    "print(f\"Limpando e salvando a tabela fato em: {fact_path}\")\n",
    "dbutils.fs.rm(fact_path, recurse=True)\n",
    "spark.sql(f\"DROP TABLE IF EXISTS default.{fact_table_name}\")\n",
    "\n",
    "(fato_nascimento.write\n",
    " .format(\"delta\")\n",
    " .mode(\"overwrite\")\n",
    " .partitionBy(\"data_nascimento\") \n",
    " .save(fact_path)\n",
    ")\n",
    "\n",
    "spark.sql(f\"CREATE TABLE default.{fact_table_name} USING DELTA LOCATION '{fact_path}'\")\n",
    "print(f\"✅ Tabela '{fact_table_name}' criada com sucesso na camada Gold.\")"
   ]
  }
 ],
 "metadata": {
  "application/vnd.databricks.v1+notebook": {
   "computePreferences": null,
   "dashboards": [],
   "environmentMetadata": {
    "base_environment": "",
    "environment_version": "1"
   },
   "inputWidgetPreferences": null,
   "language": "python",
   "notebookMetadata": {
    "pythonIndentUnit": 4
   },
   "notebookName": "04_Gold",
   "widgets": {}
  }
 },
 "nbformat": 4,
 "nbformat_minor": 0
}