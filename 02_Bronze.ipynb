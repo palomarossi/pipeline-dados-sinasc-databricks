{
 "cells": [
  {
   "cell_type": "markdown",
   "metadata": {
    "application/vnd.databricks.v1+cell": {
     "cellMetadata": {
      "byteLimit": 2048000,
      "rowLimit": 10000
     },
     "inputWidgets": {},
     "nuid": "7f602580-e244-4165-84e4-bd6191f4dede",
     "showTitle": false,
     "tableResultSettingsMap": {},
     "title": ""
    }
   },
   "source": [
    "### 1. Configuração Inicial\n",
    "\n",
    "**Objetivo:** Importar as bibliotecas e definir os caminhos e nomes de tabelas."
   ]
  },
  {
   "cell_type": "code",
   "execution_count": 0,
   "metadata": {
    "application/vnd.databricks.v1+cell": {
     "cellMetadata": {
      "byteLimit": 2048000,
      "rowLimit": 10000
     },
     "inputWidgets": {},
     "nuid": "d4991c01-419e-4fa8-9045-b7905cfe4792",
     "showTitle": false,
     "tableResultSettingsMap": {},
     "title": ""
    }
   },
   "outputs": [
    {
     "output_type": "stream",
     "name": "stdout",
     "output_type": "stream",
     "text": [
      "✅ Configuração concluída.\n   - Lendo de: /lakehouse/health_insights_brasil/landing_zone/sinasc\n   - Escrevendo em: /lakehouse/health_insights_brasil/bronze/sinasc\n"
     ]
    }
   ],
   "source": [
    "from pyspark.sql.types import StructType, StructField, StringType, IntegerType, DoubleType\n",
    "from pyspark.sql.functions import col, input_file_name, current_timestamp\n",
    "\n",
    "# --- CONFIGURAÇÃO DOS CAMINHOS E NOMES ---\n",
    "data_source = \"sinasc\"\n",
    "root_path = \"/lakehouse/health_insights_brasil\"\n",
    "# Apontamos para o diretório da AMOSTRA que criamos no notebook anterior\n",
    "landing_zone_path = f\"{root_path}/landing_zone/{data_source}\" \n",
    "bronze_path = f\"{root_path}/bronze/{data_source}\"\n",
    "table_name = \"bronze_sinasc\"\n",
    "\n",
    "print(\"✅ Configuração concluída.\")\n",
    "print(f\"   - Lendo de: {landing_zone_path}\")\n",
    "print(f\"   - Escrevendo em: {bronze_path}\")"
   ]
  },
  {
   "cell_type": "markdown",
   "metadata": {
    "application/vnd.databricks.v1+cell": {
     "cellMetadata": {
      "byteLimit": 2048000,
      "rowLimit": 10000
     },
     "inputWidgets": {},
     "nuid": "b9c8a302-1e05-4227-a6a0-3f0fd0a4a81a",
     "showTitle": false,
     "tableResultSettingsMap": {},
     "title": ""
    }
   },
   "source": [
    "### 2. Definição Explícita do Schema\n",
    "\n",
    "**Objetivo:** Criar o \"contrato\" dos nossos dados. Definimos cada coluna e seu tipo. Para a camada Bronze, é uma boa prática ler a maioria dos campos como `StringType` para evitar erros de parse. A conversão para números ou datas será feita na camada Silver."
   ]
  },
  {
   "cell_type": "code",
   "execution_count": 0,
   "metadata": {
    "application/vnd.databricks.v1+cell": {
     "cellMetadata": {
      "byteLimit": 2048000,
      "rowLimit": 10000
     },
     "inputWidgets": {},
     "nuid": "e58eba30-e137-4e3c-a51b-0b47ddd9916d",
     "showTitle": false,
     "tableResultSettingsMap": {},
     "title": ""
    }
   },
   "outputs": [
    {
     "output_type": "stream",
     "name": "stdout",
     "output_type": "stream",
     "text": [
      "✅ Schema da camada Bronze corrigido com a coluna NUMERODN.\n"
     ]
    }
   ],
   "source": [
    "# Schema explícito para os dados do SINASC \n",
    "bronze_schema = StructType([\n",
    "    StructField(\"ORIGEM\", StringType(), True),\n",
    "    StructField(\"CODESTAB\", StringType(), True),\n",
    "    StructField(\"CODMUNNASC\", StringType(), True),\n",
    "    StructField(\"NUMERODN\", StringType(), True), \n",
    "    StructField(\"LOCNASC\", StringType(), True),\n",
    "    StructField(\"IDADEMAE\", StringType(), True),\n",
    "    StructField(\"ESTCIVMAE\", StringType(), True),\n",
    "    StructField(\"ESCMAE\", StringType(), True),\n",
    "    StructField(\"CODOCUPMAE\", StringType(), True),\n",
    "    StructField(\"QTDFILVIVO\", StringType(), True),\n",
    "    StructField(\"QTDFILMORT\", StringType(), True),\n",
    "    StructField(\"CODMUNRES\", StringType(), True),\n",
    "    StructField(\"GESTACAO\", StringType(), True),\n",
    "    StructField(\"GRAVIDEZ\", StringType(), True),\n",
    "    StructField(\"PARTO\", StringType(), True),\n",
    "    StructField(\"CONSULTAS\", StringType(), True),\n",
    "    StructField(\"DTNASC\", StringType(), True),\n",
    "    StructField(\"HORANASC\", StringType(), True),\n",
    "    StructField(\"SEXO\", StringType(), True),\n",
    "    StructField(\"APGAR1\", StringType(), True),\n",
    "    StructField(\"APGAR5\", StringType(), True),\n",
    "    StructField(\"RACACOR\", StringType(), True),\n",
    "    StructField(\"PESO\", StringType(), True),\n",
    "    StructField(\"IDANOMAL\", StringType(), True),\n",
    "    StructField(\"DTCADASTRO\", StringType(), True),\n",
    "    StructField(\"CODANOMAL\", StringType(), True),\n",
    "    StructField(\"NUMEROLOTE\", StringType(), True),\n",
    "    StructField(\"VERSAOSIST\", StringType(), True),\n",
    "    StructField(\"DTRECEBIM\", StringType(), True),\n",
    "    StructField(\"DIFDATA\", StringType(), True),\n",
    "    StructField(\"DTRECORIGA\", StringType(), True),\n",
    "    StructField(\"NATURALMAE\", StringType(), True),\n",
    "    StructField(\"CODMUNNATU\", StringType(), True),\n",
    "    StructField(\"CODUFNATU\", StringType(), True),\n",
    "    StructField(\"ESCMAE2010\", StringType(), True),\n",
    "    StructField(\"SERIESCMAE\", StringType(), True),\n",
    "    StructField(\"DTNASCMAE\", StringType(), True),\n",
    "    StructField(\"RACACORMAE\", StringType(), True),\n",
    "    StructField(\"QTDGESTANT\", StringType(), True),\n",
    "    StructField(\"QTDPARTNOR\", StringType(), True),\n",
    "    StructField(\"QTDPARTCES\", StringType(), True),\n",
    "    StructField(\"IDADEPAI\", StringType(), True),\n",
    "    StructField(\"DTULTMENST\", StringType(), True),\n",
    "    StructField(\"SEMAGESTAC\", StringType(), True),\n",
    "    StructField(\"TPMETESTIM\", StringType(), True),\n",
    "    StructField(\"CONSPRENAT\", StringType(), True),\n",
    "    StructField(\"MESPRENAT\", StringType(), True),\n",
    "    StructField(\"TPAPRESENT\", StringType(), True),\n",
    "    StructField(\"STTRABPART\", StringType(), True),\n",
    "    StructField(\"STCESPARTO\", StringType(), True),\n",
    "    StructField(\"TPNASCASSI\", StringType(), True),\n",
    "    StructField(\"TPFUNCRESP\", StringType(), True),\n",
    "    StructField(\"TPDOCRESP\", StringType(), True),\n",
    "    StructField(\"DTDECLARAC\", StringType(), True),\n",
    "    StructField(\"ESCMAEAGR1\", StringType(), True),\n",
    "    StructField(\"STDNEPIDEM\", StringType(), True),\n",
    "    StructField(\"STDNNOVA\", StringType(), True),\n",
    "    StructField(\"CODPAISRES\", StringType(), True),\n",
    "    StructField(\"TPROBSON\", StringType(), True),\n",
    "    StructField(\"PARIDADE\", StringType(), True),\n",
    "    StructField(\"KOTELCHUCK\", StringType(), True),\n",
    "    StructField(\"CONTADOR\", StringType(), True),\n",
    "    StructField(\"munResUf\", StringType(), True),\n",
    "    StructField(\"munResNome\", StringType(), True),\n",
    "    StructField(\"munResLat\", StringType(), True),\n",
    "    StructField(\"munResLon\", StringType(), True),\n",
    "    StructField(\"munResAlt\", StringType(), True),\n",
    "    StructField(\"munResArea\", StringType(), True)\n",
    "])\n",
    "\n",
    "print(\"✅ Schema da camada Bronze corrigido com a coluna NUMERODN.\")"
   ]
  },
  {
   "cell_type": "markdown",
   "metadata": {
    "application/vnd.databricks.v1+cell": {
     "cellMetadata": {
      "byteLimit": 2048000,
      "rowLimit": 10000
     },
     "inputWidgets": {},
     "nuid": "d2151d58-8d14-4e43-a4e1-3ef7ca01dc03",
     "showTitle": false,
     "tableResultSettingsMap": {},
     "title": ""
    }
   },
   "source": [
    "### 3. Leitura do CSV e Escrita da Tabela Bronze\n",
    "\n",
    "**Objetivo:** Ler o CSV da Landing Zone forçando o uso do nosso schema, adicionar colunas de metadados e salvar a tabela final no formato Delta."
   ]
  },
  {
   "cell_type": "code",
   "execution_count": 0,
   "metadata": {
    "application/vnd.databricks.v1+cell": {
     "cellMetadata": {
      "byteLimit": 2048000,
      "rowLimit": 10000
     },
     "inputWidgets": {},
     "nuid": "a38f51ec-485a-45f4-9d57-2b9861fb10f3",
     "showTitle": false,
     "tableResultSettingsMap": {},
     "title": ""
    }
   },
   "outputs": [
    {
     "output_type": "stream",
     "name": "stdout",
     "output_type": "stream",
     "text": [
      "Limpando diretórios e tabela antiga para garantir uma carga completa...\nIniciando o processamento em lote...\nSalvando 10000 registros no formato Delta em: /lakehouse/health_insights_brasil/bronze/sinasc\nRegistrando a tabela externa 'bronze_sinasc'...\n\n✅ Tabela 'bronze_sinasc' criada com sucesso na camada Bronze.\n"
     ]
    }
   ],
   "source": [
    "# --- LIMPEZA PARA UMA CARGA COMPLETA ---\n",
    "print(\"Limpando diretórios e tabela antiga para garantir uma carga completa...\")\n",
    "dbutils.fs.rm(bronze_path, recurse=True)\n",
    "spark.sql(f\"DROP TABLE IF EXISTS default.{table_name}\")\n",
    "\n",
    "# --- PROCESSAMENTO EM LOTE ---\n",
    "print(\"Iniciando o processamento em lote...\")\n",
    "\n",
    "# Leitura do CSV aplicando nosso schema explícito\n",
    "df_raw = (spark.read\n",
    "          .format(\"csv\")\n",
    "          .option(\"header\", \"true\")\n",
    "          .option(\"sep\", \";\")\n",
    "          .schema(bronze_schema) # <-- APLICAÇÃO DO SCHEMA\n",
    "          .load(landing_zone_path)\n",
    "         )\n",
    "\n",
    "# Adiciona as colunas de metadados para rastreabilidade\n",
    "df_bronze = (df_raw\n",
    "             .withColumn(\"_ingestion_timestamp\", current_timestamp())\n",
    "             .withColumn(\"_source_file\", input_file_name())\n",
    "            )\n",
    "\n",
    "# Escrita dos dados no formato Delta\n",
    "print(f\"Salvando {df_bronze.count()} registros no formato Delta em: {bronze_path}\")\n",
    "(df_bronze.write\n",
    " .format(\"delta\")\n",
    " .mode(\"overwrite\")\n",
    " .save(bronze_path)\n",
    ")\n",
    "\n",
    "# Criação da tabela externa no Metastore\n",
    "print(f\"Registrando a tabela externa '{table_name}'...\")\n",
    "spark.sql(f\"\"\"\n",
    "    CREATE TABLE default.{table_name}\n",
    "    USING DELTA\n",
    "    LOCATION '{bronze_path}'\n",
    "\"\"\")\n",
    "\n",
    "print(f\"\\n✅ Tabela '{table_name}' criada com sucesso na camada Bronze.\")"
   ]
  },
  {
   "cell_type": "markdown",
   "metadata": {
    "application/vnd.databricks.v1+cell": {
     "cellMetadata": {
      "byteLimit": 2048000,
      "rowLimit": 10000
     },
     "inputWidgets": {},
     "nuid": "eca2e458-d83b-4832-88c4-311b42aeb586",
     "showTitle": false,
     "tableResultSettingsMap": {},
     "title": ""
    }
   },
   "source": [
    "### 4. Verificação Final\n",
    "\n",
    "**Objetivo:** Confirmar visualmente que a tabela foi criada e que os dados estão estruturados corretamente com as colunas que definimos."
   ]
  },
  {
   "cell_type": "code",
   "execution_count": 0,
   "metadata": {
    "application/vnd.databricks.v1+cell": {
     "cellMetadata": {
      "byteLimit": 2048000,
      "implicitDf": true,
      "rowLimit": 10000
     },
     "inputWidgets": {},
     "nuid": "9174b7e6-4a20-4b2a-b3f5-2c66d00a9d3a",
     "showTitle": false,
     "tableResultSettingsMap": {},
     "title": ""
    }
   },
   "outputs": [
    {
     "output_type": "display_data",
     "data": {
      "text/html": [
       "<style scoped>\n",
       "  .table-result-container {\n",
       "    max-height: 300px;\n",
       "    overflow: auto;\n",
       "  }\n",
       "  table, th, td {\n",
       "    border: 1px solid black;\n",
       "    border-collapse: collapse;\n",
       "  }\n",
       "  th, td {\n",
       "    padding: 5px;\n",
       "  }\n",
       "  th {\n",
       "    text-align: left;\n",
       "  }\n",
       "</style><div class='table-result-container'><table class='table-result'><thead style='background-color: white'><tr><th>ORIGEM</th><th>CODESTAB</th><th>CODMUNNASC</th><th>NUMERODN</th><th>LOCNASC</th><th>IDADEMAE</th><th>ESTCIVMAE</th><th>ESCMAE</th><th>CODOCUPMAE</th><th>QTDFILVIVO</th><th>QTDFILMORT</th><th>CODMUNRES</th><th>GESTACAO</th><th>GRAVIDEZ</th><th>PARTO</th><th>CONSULTAS</th><th>DTNASC</th><th>HORANASC</th><th>SEXO</th><th>APGAR1</th><th>APGAR5</th><th>RACACOR</th><th>PESO</th><th>IDANOMAL</th><th>DTCADASTRO</th><th>CODANOMAL</th><th>NUMEROLOTE</th><th>VERSAOSIST</th><th>DTRECEBIM</th><th>DIFDATA</th><th>DTRECORIGA</th><th>NATURALMAE</th><th>CODMUNNATU</th><th>CODUFNATU</th><th>ESCMAE2010</th><th>SERIESCMAE</th><th>DTNASCMAE</th><th>RACACORMAE</th><th>QTDGESTANT</th><th>QTDPARTNOR</th><th>QTDPARTCES</th><th>IDADEPAI</th><th>DTULTMENST</th><th>SEMAGESTAC</th><th>TPMETESTIM</th><th>CONSPRENAT</th><th>MESPRENAT</th><th>TPAPRESENT</th><th>STTRABPART</th><th>STCESPARTO</th><th>TPNASCASSI</th><th>TPFUNCRESP</th><th>TPDOCRESP</th><th>DTDECLARAC</th><th>ESCMAEAGR1</th><th>STDNEPIDEM</th><th>STDNNOVA</th><th>CODPAISRES</th><th>TPROBSON</th><th>PARIDADE</th><th>KOTELCHUCK</th><th>CONTADOR</th><th>munResUf</th><th>munResNome</th><th>munResLat</th><th>munResLon</th><th>munResAlt</th><th>munResArea</th><th>_ingestion_timestamp</th><th>_source_file</th></tr></thead><tbody><tr><td>1</td><td>1</td><td>2516500</td><td>110001</td><td>1</td><td>24</td><td>1</td><td>3</td><td>999992</td><td>01</td><td>00</td><td>110001</td><td>5</td><td>1</td><td>2</td><td>2</td><td>14022024</td><td>0845</td><td>1</td><td>08</td><td>09</td><td>4</td><td>3120</td><td>2</td><td>05032024</td><td>null</td><td>20240003</td><td>3.2.50</td><td>05032024</td><td>020</td><td>20</td><td>05032024</td><td>811</td><td>110028</td><td>11</td><td>2</td><td>5</td><td>11012000</td><td>4</td><td>01</td><td>00</td><td>01</td><td>null</td><td>17052023</td><td>38</td><td>8</td><td>02</td><td>03</td><td>1</td><td>2</td><td>2</td><td>1</td><td>2</td><td>3</td><td>14022024</td><td>03</td><td>0</td><td>1</td><td>1</td><td>05</td><td>1</td><td>2</td><td>null</td><td>null</td><td>null</td><td>null</td><td>null</td><td>null</td><td>2025-08-14T21:31:20.819+0000</td><td>dbfs:/lakehouse/health_insights_brasil/landing_zone/sinasc/SINASC_2024_SAMPLE_10000.csv</td></tr><tr><td>2</td><td>1</td><td>2516500</td><td>110001</td><td>1</td><td>29</td><td>2</td><td>5</td><td>999992</td><td>00</td><td>00</td><td>110001</td><td>5</td><td>1</td><td>2</td><td>4</td><td>17042024</td><td>0850</td><td>1</td><td>08</td><td>09</td><td>4</td><td>3564</td><td>2</td><td>09052024</td><td>null</td><td>20240005</td><td>3.2.50</td><td>09052024</td><td>022</td><td>22</td><td>09052024</td><td>811</td><td>110001</td><td>11</td><td>5</td><td>null</td><td>22111994</td><td>4</td><td>00</td><td>00</td><td>00</td><td>41</td><td>17072023</td><td>39</td><td>8</td><td>08</td><td>05</td><td>1</td><td>2</td><td>1</td><td>1</td><td>2</td><td>3</td><td>17042024</td><td>08</td><td>0</td><td>1</td><td>1</td><td>02</td><td>0</td><td>2</td><td>null</td><td>null</td><td>null</td><td>null</td><td>null</td><td>null</td><td>2025-08-14T21:31:20.819+0000</td><td>dbfs:/lakehouse/health_insights_brasil/landing_zone/sinasc/SINASC_2024_SAMPLE_10000.csv</td></tr><tr><td>3</td><td>1</td><td>2516500</td><td>110001</td><td>1</td><td>30</td><td>5</td><td>4</td><td>622020</td><td>02</td><td>00</td><td>110001</td><td>5</td><td>1</td><td>2</td><td>4</td><td>29052024</td><td>1006</td><td>1</td><td>08</td><td>09</td><td>4</td><td>2816</td><td>2</td><td>03062024</td><td>null</td><td>20240006</td><td>3.2.50</td><td>03062024</td><td>005</td><td>5</td><td>03062024</td><td>811</td><td>110001</td><td>11</td><td>3</td><td>2</td><td>12081993</td><td>4</td><td>02</td><td>00</td><td>02</td><td>35</td><td>27082023</td><td>39</td><td>8</td><td>08</td><td>02</td><td>1</td><td>2</td><td>1</td><td>1</td><td>2</td><td>3</td><td>29052024</td><td>05</td><td>0</td><td>1</td><td>1</td><td>05</td><td>1</td><td>5</td><td>null</td><td>null</td><td>null</td><td>null</td><td>null</td><td>null</td><td>2025-08-14T21:31:20.819+0000</td><td>dbfs:/lakehouse/health_insights_brasil/landing_zone/sinasc/SINASC_2024_SAMPLE_10000.csv</td></tr><tr><td>4</td><td>1</td><td>2516500</td><td>110001</td><td>1</td><td>14</td><td>5</td><td>4</td><td>999991</td><td>00</td><td>00</td><td>110001</td><td>5</td><td>1</td><td>2</td><td>4</td><td>27052024</td><td>0900</td><td>1</td><td>08</td><td>09</td><td>1</td><td>3126</td><td>2</td><td>03062024</td><td>null</td><td>20240006</td><td>3.2.50</td><td>03062024</td><td>007</td><td>7</td><td>03062024</td><td>811</td><td>110001</td><td>11</td><td>2</td><td>8</td><td>12102009</td><td>1</td><td>00</td><td>00</td><td>00</td><td>17</td><td>28082023</td><td>38</td><td>8</td><td>10</td><td>03</td><td>1</td><td>2</td><td>2</td><td>1</td><td>2</td><td>3</td><td>27052024</td><td>04</td><td>0</td><td>1</td><td>1</td><td>01</td><td>0</td><td>5</td><td>null</td><td>null</td><td>null</td><td>null</td><td>null</td><td>null</td><td>2025-08-14T21:31:20.819+0000</td><td>dbfs:/lakehouse/health_insights_brasil/landing_zone/sinasc/SINASC_2024_SAMPLE_10000.csv</td></tr><tr><td>5</td><td>1</td><td>2516500</td><td>110001</td><td>1</td><td>24</td><td>2</td><td>4</td><td>999992</td><td>01</td><td>00</td><td>110001</td><td>5</td><td>1</td><td>2</td><td>4</td><td>13052024</td><td>0835</td><td>1</td><td>08</td><td>09</td><td>4</td><td>3622</td><td>2</td><td>03062024</td><td>null</td><td>20240006</td><td>3.2.50</td><td>03062024</td><td>021</td><td>21</td><td>03062024</td><td>850</td><td>500270</td><td>50</td><td>3</td><td>1</td><td>23091999</td><td>4</td><td>01</td><td>00</td><td>01</td><td>29</td><td>08082023</td><td>39</td><td>8</td><td>11</td><td>02</td><td>1</td><td>2</td><td>2</td><td>1</td><td>2</td><td>3</td><td>13052024</td><td>05</td><td>0</td><td>1</td><td>1</td><td>05</td><td>1</td><td>5</td><td>null</td><td>null</td><td>null</td><td>null</td><td>null</td><td>null</td><td>2025-08-14T21:31:20.819+0000</td><td>dbfs:/lakehouse/health_insights_brasil/landing_zone/sinasc/SINASC_2024_SAMPLE_10000.csv</td></tr><tr><td>6</td><td>1</td><td>2516500</td><td>110001</td><td>1</td><td>29</td><td>5</td><td>5</td><td>999992</td><td>00</td><td>00</td><td>110001</td><td>5</td><td>1</td><td>2</td><td>4</td><td>08052024</td><td>0915</td><td>2</td><td>08</td><td>09</td><td>2</td><td>2935</td><td>2</td><td>03062024</td><td>null</td><td>20240006</td><td>3.2.50</td><td>03062024</td><td>026</td><td>26</td><td>03062024</td><td>811</td><td>110014</td><td>11</td><td>4</td><td>null</td><td>05121994</td><td>2</td><td>00</td><td>00</td><td>00</td><td>30</td><td>01082023</td><td>40</td><td>8</td><td>07</td><td>04</td><td>1</td><td>2</td><td>2</td><td>1</td><td>2</td><td>3</td><td>08052024</td><td>07</td><td>0</td><td>1</td><td>1</td><td>01</td><td>0</td><td>2</td><td>null</td><td>null</td><td>null</td><td>null</td><td>null</td><td>null</td><td>2025-08-14T21:31:20.819+0000</td><td>dbfs:/lakehouse/health_insights_brasil/landing_zone/sinasc/SINASC_2024_SAMPLE_10000.csv</td></tr><tr><td>7</td><td>1</td><td>2679477</td><td>110001</td><td>1</td><td>18</td><td>9</td><td>3</td><td>999992</td><td>01</td><td>00</td><td>110001</td><td>5</td><td>1</td><td>1</td><td>3</td><td>01052024</td><td>0110</td><td>1</td><td>08</td><td>09</td><td>4</td><td>3365</td><td>2</td><td>03062024</td><td>null</td><td>20240007</td><td>3.2.50</td><td>12062024</td><td>042</td><td>33</td><td>03062024</td><td>811</td><td>110001</td><td>11</td><td>1</td><td>4</td><td>28052005</td><td>4</td><td>01</td><td>01</td><td>00</td><td>null</td><td>05082023</td><td>38</td><td>8</td><td>05</td><td>01</td><td>1</td><td>2</td><td>3</td><td>1</td><td>5</td><td>5</td><td>01052024</td><td>02</td><td>0</td><td>1</td><td>1</td><td>03</td><td>1</td><td>3</td><td>null</td><td>null</td><td>null</td><td>null</td><td>null</td><td>null</td><td>2025-08-14T21:31:20.819+0000</td><td>dbfs:/lakehouse/health_insights_brasil/landing_zone/sinasc/SINASC_2024_SAMPLE_10000.csv</td></tr><tr><td>8</td><td>1</td><td>2516500</td><td>110001</td><td>1</td><td>29</td><td>1</td><td>4</td><td>999992</td><td>02</td><td>01</td><td>110001</td><td>5</td><td>1</td><td>2</td><td>4</td><td>05062024</td><td>1005</td><td>1</td><td>08</td><td>09</td><td>4</td><td>3298</td><td>2</td><td>02072024</td><td>null</td><td>20240008</td><td>3.2.50</td><td>20082024</td><td>076</td><td>76</td><td>20082024</td><td>811</td><td>110001</td><td>11</td><td>3</td><td>3</td><td>10111994</td><td>4</td><td>03</td><td>00</td><td>02</td><td>null</td><td>05092023</td><td>39</td><td>8</td><td>07</td><td>02</td><td>1</td><td>2</td><td>1</td><td>1</td><td>2</td><td>3</td><td>05062024</td><td>06</td><td>0</td><td>1</td><td>1</td><td>05</td><td>1</td><td>5</td><td>null</td><td>null</td><td>null</td><td>null</td><td>null</td><td>null</td><td>2025-08-14T21:31:20.819+0000</td><td>dbfs:/lakehouse/health_insights_brasil/landing_zone/sinasc/SINASC_2024_SAMPLE_10000.csv</td></tr><tr><td>9</td><td>1</td><td>2494299</td><td>110002</td><td>1</td><td>20</td><td>5</td><td>4</td><td>999992</td><td>00</td><td>00</td><td>110002</td><td>5</td><td>1</td><td>1</td><td>4</td><td>01012024</td><td>0516</td><td>1</td><td>08</td><td>09</td><td>1</td><td>3240</td><td>2</td><td>03012024</td><td>null</td><td>20240001</td><td>3.2.50</td><td>09012024</td><td>008</td><td>8</td><td>09012024</td><td>811</td><td>110002</td><td>11</td><td>3</td><td>3</td><td>24062003</td><td>1</td><td>00</td><td>00</td><td>00</td><td>null</td><td>05042023</td><td>38</td><td>8</td><td>10</td><td>02</td><td>1</td><td>2</td><td>3</td><td>2</td><td>2</td><td>3</td><td>01012024</td><td>06</td><td>1</td><td>1</td><td>1</td><td>01</td><td>0</td><td>5</td><td>null</td><td>null</td><td>null</td><td>null</td><td>null</td><td>null</td><td>2025-08-14T21:31:20.819+0000</td><td>dbfs:/lakehouse/health_insights_brasil/landing_zone/sinasc/SINASC_2024_SAMPLE_10000.csv</td></tr><tr><td>10</td><td>1</td><td>2494299</td><td>110002</td><td>1</td><td>40</td><td>1</td><td>5</td><td>252305</td><td>04</td><td>01</td><td>110110</td><td>5</td><td>1</td><td>2</td><td>4</td><td>01012024</td><td>2123</td><td>1</td><td>09</td><td>09</td><td>4</td><td>3960</td><td>2</td><td>03012024</td><td>null</td><td>20240001</td><td>3.2.50</td><td>09012024</td><td>008</td><td>8</td><td>09012024</td><td>812</td><td>120040</td><td>12</td><td>5</td><td>null</td><td>02061983</td><td>4</td><td>05</td><td>01</td><td>03</td><td>null</td><td>null</td><td>38</td><td>1</td><td>07</td><td>04</td><td>1</td><td>2</td><td>2</td><td>1</td><td>2</td><td>3</td><td>01012024</td><td>08</td><td>1</td><td>1</td><td>1</td><td>05</td><td>1</td><td>2</td><td>null</td><td>null</td><td>null</td><td>null</td><td>null</td><td>null</td><td>2025-08-14T21:31:20.819+0000</td><td>dbfs:/lakehouse/health_insights_brasil/landing_zone/sinasc/SINASC_2024_SAMPLE_10000.csv</td></tr></tbody></table></div>"
      ]
     },
     "metadata": {
      "application/vnd.databricks.v1+output": {
       "addedWidgets": {},
       "aggData": [],
       "aggError": "",
       "aggOverflow": false,
       "aggSchema": [],
       "aggSeriesLimitReached": false,
       "aggType": "",
       "arguments": {},
       "columnCustomDisplayInfos": {},
       "data": [
        [
         "1",
         "1",
         "2516500",
         "110001",
         "1",
         "24",
         "1",
         "3",
         "999992",
         "01",
         "00",
         "110001",
         "5",
         "1",
         "2",
         "2",
         "14022024",
         "0845",
         "1",
         "08",
         "09",
         "4",
         "3120",
         "2",
         "05032024",
         null,
         "20240003",
         "3.2.50",
         "05032024",
         "020",
         "20",
         "05032024",
         "811",
         "110028",
         "11",
         "2",
         "5",
         "11012000",
         "4",
         "01",
         "00",
         "01",
         null,
         "17052023",
         "38",
         "8",
         "02",
         "03",
         "1",
         "2",
         "2",
         "1",
         "2",
         "3",
         "14022024",
         "03",
         "0",
         "1",
         "1",
         "05",
         "1",
         "2",
         null,
         null,
         null,
         null,
         null,
         null,
         "2025-08-14T21:31:20.819+0000",
         "dbfs:/lakehouse/health_insights_brasil/landing_zone/sinasc/SINASC_2024_SAMPLE_10000.csv"
        ],
        [
         "2",
         "1",
         "2516500",
         "110001",
         "1",
         "29",
         "2",
         "5",
         "999992",
         "00",
         "00",
         "110001",
         "5",
         "1",
         "2",
         "4",
         "17042024",
         "0850",
         "1",
         "08",
         "09",
         "4",
         "3564",
         "2",
         "09052024",
         null,
         "20240005",
         "3.2.50",
         "09052024",
         "022",
         "22",
         "09052024",
         "811",
         "110001",
         "11",
         "5",
         null,
         "22111994",
         "4",
         "00",
         "00",
         "00",
         "41",
         "17072023",
         "39",
         "8",
         "08",
         "05",
         "1",
         "2",
         "1",
         "1",
         "2",
         "3",
         "17042024",
         "08",
         "0",
         "1",
         "1",
         "02",
         "0",
         "2",
         null,
         null,
         null,
         null,
         null,
         null,
         "2025-08-14T21:31:20.819+0000",
         "dbfs:/lakehouse/health_insights_brasil/landing_zone/sinasc/SINASC_2024_SAMPLE_10000.csv"
        ],
        [
         "3",
         "1",
         "2516500",
         "110001",
         "1",
         "30",
         "5",
         "4",
         "622020",
         "02",
         "00",
         "110001",
         "5",
         "1",
         "2",
         "4",
         "29052024",
         "1006",
         "1",
         "08",
         "09",
         "4",
         "2816",
         "2",
         "03062024",
         null,
         "20240006",
         "3.2.50",
         "03062024",
         "005",
         "5",
         "03062024",
         "811",
         "110001",
         "11",
         "3",
         "2",
         "12081993",
         "4",
         "02",
         "00",
         "02",
         "35",
         "27082023",
         "39",
         "8",
         "08",
         "02",
         "1",
         "2",
         "1",
         "1",
         "2",
         "3",
         "29052024",
         "05",
         "0",
         "1",
         "1",
         "05",
         "1",
         "5",
         null,
         null,
         null,
         null,
         null,
         null,
         "2025-08-14T21:31:20.819+0000",
         "dbfs:/lakehouse/health_insights_brasil/landing_zone/sinasc/SINASC_2024_SAMPLE_10000.csv"
        ],
        [
         "4",
         "1",
         "2516500",
         "110001",
         "1",
         "14",
         "5",
         "4",
         "999991",
         "00",
         "00",
         "110001",
         "5",
         "1",
         "2",
         "4",
         "27052024",
         "0900",
         "1",
         "08",
         "09",
         "1",
         "3126",
         "2",
         "03062024",
         null,
         "20240006",
         "3.2.50",
         "03062024",
         "007",
         "7",
         "03062024",
         "811",
         "110001",
         "11",
         "2",
         "8",
         "12102009",
         "1",
         "00",
         "00",
         "00",
         "17",
         "28082023",
         "38",
         "8",
         "10",
         "03",
         "1",
         "2",
         "2",
         "1",
         "2",
         "3",
         "27052024",
         "04",
         "0",
         "1",
         "1",
         "01",
         "0",
         "5",
         null,
         null,
         null,
         null,
         null,
         null,
         "2025-08-14T21:31:20.819+0000",
         "dbfs:/lakehouse/health_insights_brasil/landing_zone/sinasc/SINASC_2024_SAMPLE_10000.csv"
        ],
        [
         "5",
         "1",
         "2516500",
         "110001",
         "1",
         "24",
         "2",
         "4",
         "999992",
         "01",
         "00",
         "110001",
         "5",
         "1",
         "2",
         "4",
         "13052024",
         "0835",
         "1",
         "08",
         "09",
         "4",
         "3622",
         "2",
         "03062024",
         null,
         "20240006",
         "3.2.50",
         "03062024",
         "021",
         "21",
         "03062024",
         "850",
         "500270",
         "50",
         "3",
         "1",
         "23091999",
         "4",
         "01",
         "00",
         "01",
         "29",
         "08082023",
         "39",
         "8",
         "11",
         "02",
         "1",
         "2",
         "2",
         "1",
         "2",
         "3",
         "13052024",
         "05",
         "0",
         "1",
         "1",
         "05",
         "1",
         "5",
         null,
         null,
         null,
         null,
         null,
         null,
         "2025-08-14T21:31:20.819+0000",
         "dbfs:/lakehouse/health_insights_brasil/landing_zone/sinasc/SINASC_2024_SAMPLE_10000.csv"
        ],
        [
         "6",
         "1",
         "2516500",
         "110001",
         "1",
         "29",
         "5",
         "5",
         "999992",
         "00",
         "00",
         "110001",
         "5",
         "1",
         "2",
         "4",
         "08052024",
         "0915",
         "2",
         "08",
         "09",
         "2",
         "2935",
         "2",
         "03062024",
         null,
         "20240006",
         "3.2.50",
         "03062024",
         "026",
         "26",
         "03062024",
         "811",
         "110014",
         "11",
         "4",
         null,
         "05121994",
         "2",
         "00",
         "00",
         "00",
         "30",
         "01082023",
         "40",
         "8",
         "07",
         "04",
         "1",
         "2",
         "2",
         "1",
         "2",
         "3",
         "08052024",
         "07",
         "0",
         "1",
         "1",
         "01",
         "0",
         "2",
         null,
         null,
         null,
         null,
         null,
         null,
         "2025-08-14T21:31:20.819+0000",
         "dbfs:/lakehouse/health_insights_brasil/landing_zone/sinasc/SINASC_2024_SAMPLE_10000.csv"
        ],
        [
         "7",
         "1",
         "2679477",
         "110001",
         "1",
         "18",
         "9",
         "3",
         "999992",
         "01",
         "00",
         "110001",
         "5",
         "1",
         "1",
         "3",
         "01052024",
         "0110",
         "1",
         "08",
         "09",
         "4",
         "3365",
         "2",
         "03062024",
         null,
         "20240007",
         "3.2.50",
         "12062024",
         "042",
         "33",
         "03062024",
         "811",
         "110001",
         "11",
         "1",
         "4",
         "28052005",
         "4",
         "01",
         "01",
         "00",
         null,
         "05082023",
         "38",
         "8",
         "05",
         "01",
         "1",
         "2",
         "3",
         "1",
         "5",
         "5",
         "01052024",
         "02",
         "0",
         "1",
         "1",
         "03",
         "1",
         "3",
         null,
         null,
         null,
         null,
         null,
         null,
         "2025-08-14T21:31:20.819+0000",
         "dbfs:/lakehouse/health_insights_brasil/landing_zone/sinasc/SINASC_2024_SAMPLE_10000.csv"
        ],
        [
         "8",
         "1",
         "2516500",
         "110001",
         "1",
         "29",
         "1",
         "4",
         "999992",
         "02",
         "01",
         "110001",
         "5",
         "1",
         "2",
         "4",
         "05062024",
         "1005",
         "1",
         "08",
         "09",
         "4",
         "3298",
         "2",
         "02072024",
         null,
         "20240008",
         "3.2.50",
         "20082024",
         "076",
         "76",
         "20082024",
         "811",
         "110001",
         "11",
         "3",
         "3",
         "10111994",
         "4",
         "03",
         "00",
         "02",
         null,
         "05092023",
         "39",
         "8",
         "07",
         "02",
         "1",
         "2",
         "1",
         "1",
         "2",
         "3",
         "05062024",
         "06",
         "0",
         "1",
         "1",
         "05",
         "1",
         "5",
         null,
         null,
         null,
         null,
         null,
         null,
         "2025-08-14T21:31:20.819+0000",
         "dbfs:/lakehouse/health_insights_brasil/landing_zone/sinasc/SINASC_2024_SAMPLE_10000.csv"
        ],
        [
         "9",
         "1",
         "2494299",
         "110002",
         "1",
         "20",
         "5",
         "4",
         "999992",
         "00",
         "00",
         "110002",
         "5",
         "1",
         "1",
         "4",
         "01012024",
         "0516",
         "1",
         "08",
         "09",
         "1",
         "3240",
         "2",
         "03012024",
         null,
         "20240001",
         "3.2.50",
         "09012024",
         "008",
         "8",
         "09012024",
         "811",
         "110002",
         "11",
         "3",
         "3",
         "24062003",
         "1",
         "00",
         "00",
         "00",
         null,
         "05042023",
         "38",
         "8",
         "10",
         "02",
         "1",
         "2",
         "3",
         "2",
         "2",
         "3",
         "01012024",
         "06",
         "1",
         "1",
         "1",
         "01",
         "0",
         "5",
         null,
         null,
         null,
         null,
         null,
         null,
         "2025-08-14T21:31:20.819+0000",
         "dbfs:/lakehouse/health_insights_brasil/landing_zone/sinasc/SINASC_2024_SAMPLE_10000.csv"
        ],
        [
         "10",
         "1",
         "2494299",
         "110002",
         "1",
         "40",
         "1",
         "5",
         "252305",
         "04",
         "01",
         "110110",
         "5",
         "1",
         "2",
         "4",
         "01012024",
         "2123",
         "1",
         "09",
         "09",
         "4",
         "3960",
         "2",
         "03012024",
         null,
         "20240001",
         "3.2.50",
         "09012024",
         "008",
         "8",
         "09012024",
         "812",
         "120040",
         "12",
         "5",
         null,
         "02061983",
         "4",
         "05",
         "01",
         "03",
         null,
         null,
         "38",
         "1",
         "07",
         "04",
         "1",
         "2",
         "2",
         "1",
         "2",
         "3",
         "01012024",
         "08",
         "1",
         "1",
         "1",
         "05",
         "1",
         "2",
         null,
         null,
         null,
         null,
         null,
         null,
         "2025-08-14T21:31:20.819+0000",
         "dbfs:/lakehouse/health_insights_brasil/landing_zone/sinasc/SINASC_2024_SAMPLE_10000.csv"
        ]
       ],
       "datasetInfos": [],
       "dbfsResultPath": null,
       "isJsonSchema": true,
       "metadata": {},
       "overflow": false,
       "plotOptions": {
        "customPlotOptions": {},
        "displayType": "table",
        "pivotAggregation": null,
        "pivotColumns": null,
        "xColumns": null,
        "yColumns": null
       },
       "removedWidgets": [],
       "schema": [
        {
         "metadata": "{}",
         "name": "ORIGEM",
         "type": "\"string\""
        },
        {
         "metadata": "{}",
         "name": "CODESTAB",
         "type": "\"string\""
        },
        {
         "metadata": "{}",
         "name": "CODMUNNASC",
         "type": "\"string\""
        },
        {
         "metadata": "{}",
         "name": "NUMERODN",
         "type": "\"string\""
        },
        {
         "metadata": "{}",
         "name": "LOCNASC",
         "type": "\"string\""
        },
        {
         "metadata": "{}",
         "name": "IDADEMAE",
         "type": "\"string\""
        },
        {
         "metadata": "{}",
         "name": "ESTCIVMAE",
         "type": "\"string\""
        },
        {
         "metadata": "{}",
         "name": "ESCMAE",
         "type": "\"string\""
        },
        {
         "metadata": "{}",
         "name": "CODOCUPMAE",
         "type": "\"string\""
        },
        {
         "metadata": "{}",
         "name": "QTDFILVIVO",
         "type": "\"string\""
        },
        {
         "metadata": "{}",
         "name": "QTDFILMORT",
         "type": "\"string\""
        },
        {
         "metadata": "{}",
         "name": "CODMUNRES",
         "type": "\"string\""
        },
        {
         "metadata": "{}",
         "name": "GESTACAO",
         "type": "\"string\""
        },
        {
         "metadata": "{}",
         "name": "GRAVIDEZ",
         "type": "\"string\""
        },
        {
         "metadata": "{}",
         "name": "PARTO",
         "type": "\"string\""
        },
        {
         "metadata": "{}",
         "name": "CONSULTAS",
         "type": "\"string\""
        },
        {
         "metadata": "{}",
         "name": "DTNASC",
         "type": "\"string\""
        },
        {
         "metadata": "{}",
         "name": "HORANASC",
         "type": "\"string\""
        },
        {
         "metadata": "{}",
         "name": "SEXO",
         "type": "\"string\""
        },
        {
         "metadata": "{}",
         "name": "APGAR1",
         "type": "\"string\""
        },
        {
         "metadata": "{}",
         "name": "APGAR5",
         "type": "\"string\""
        },
        {
         "metadata": "{}",
         "name": "RACACOR",
         "type": "\"string\""
        },
        {
         "metadata": "{}",
         "name": "PESO",
         "type": "\"string\""
        },
        {
         "metadata": "{}",
         "name": "IDANOMAL",
         "type": "\"string\""
        },
        {
         "metadata": "{}",
         "name": "DTCADASTRO",
         "type": "\"string\""
        },
        {
         "metadata": "{}",
         "name": "CODANOMAL",
         "type": "\"string\""
        },
        {
         "metadata": "{}",
         "name": "NUMEROLOTE",
         "type": "\"string\""
        },
        {
         "metadata": "{}",
         "name": "VERSAOSIST",
         "type": "\"string\""
        },
        {
         "metadata": "{}",
         "name": "DTRECEBIM",
         "type": "\"string\""
        },
        {
         "metadata": "{}",
         "name": "DIFDATA",
         "type": "\"string\""
        },
        {
         "metadata": "{}",
         "name": "DTRECORIGA",
         "type": "\"string\""
        },
        {
         "metadata": "{}",
         "name": "NATURALMAE",
         "type": "\"string\""
        },
        {
         "metadata": "{}",
         "name": "CODMUNNATU",
         "type": "\"string\""
        },
        {
         "metadata": "{}",
         "name": "CODUFNATU",
         "type": "\"string\""
        },
        {
         "metadata": "{}",
         "name": "ESCMAE2010",
         "type": "\"string\""
        },
        {
         "metadata": "{}",
         "name": "SERIESCMAE",
         "type": "\"string\""
        },
        {
         "metadata": "{}",
         "name": "DTNASCMAE",
         "type": "\"string\""
        },
        {
         "metadata": "{}",
         "name": "RACACORMAE",
         "type": "\"string\""
        },
        {
         "metadata": "{}",
         "name": "QTDGESTANT",
         "type": "\"string\""
        },
        {
         "metadata": "{}",
         "name": "QTDPARTNOR",
         "type": "\"string\""
        },
        {
         "metadata": "{}",
         "name": "QTDPARTCES",
         "type": "\"string\""
        },
        {
         "metadata": "{}",
         "name": "IDADEPAI",
         "type": "\"string\""
        },
        {
         "metadata": "{}",
         "name": "DTULTMENST",
         "type": "\"string\""
        },
        {
         "metadata": "{}",
         "name": "SEMAGESTAC",
         "type": "\"string\""
        },
        {
         "metadata": "{}",
         "name": "TPMETESTIM",
         "type": "\"string\""
        },
        {
         "metadata": "{}",
         "name": "CONSPRENAT",
         "type": "\"string\""
        },
        {
         "metadata": "{}",
         "name": "MESPRENAT",
         "type": "\"string\""
        },
        {
         "metadata": "{}",
         "name": "TPAPRESENT",
         "type": "\"string\""
        },
        {
         "metadata": "{}",
         "name": "STTRABPART",
         "type": "\"string\""
        },
        {
         "metadata": "{}",
         "name": "STCESPARTO",
         "type": "\"string\""
        },
        {
         "metadata": "{}",
         "name": "TPNASCASSI",
         "type": "\"string\""
        },
        {
         "metadata": "{}",
         "name": "TPFUNCRESP",
         "type": "\"string\""
        },
        {
         "metadata": "{}",
         "name": "TPDOCRESP",
         "type": "\"string\""
        },
        {
         "metadata": "{}",
         "name": "DTDECLARAC",
         "type": "\"string\""
        },
        {
         "metadata": "{}",
         "name": "ESCMAEAGR1",
         "type": "\"string\""
        },
        {
         "metadata": "{}",
         "name": "STDNEPIDEM",
         "type": "\"string\""
        },
        {
         "metadata": "{}",
         "name": "STDNNOVA",
         "type": "\"string\""
        },
        {
         "metadata": "{}",
         "name": "CODPAISRES",
         "type": "\"string\""
        },
        {
         "metadata": "{}",
         "name": "TPROBSON",
         "type": "\"string\""
        },
        {
         "metadata": "{}",
         "name": "PARIDADE",
         "type": "\"string\""
        },
        {
         "metadata": "{}",
         "name": "KOTELCHUCK",
         "type": "\"string\""
        },
        {
         "metadata": "{}",
         "name": "CONTADOR",
         "type": "\"string\""
        },
        {
         "metadata": "{}",
         "name": "munResUf",
         "type": "\"string\""
        },
        {
         "metadata": "{}",
         "name": "munResNome",
         "type": "\"string\""
        },
        {
         "metadata": "{}",
         "name": "munResLat",
         "type": "\"string\""
        },
        {
         "metadata": "{}",
         "name": "munResLon",
         "type": "\"string\""
        },
        {
         "metadata": "{}",
         "name": "munResAlt",
         "type": "\"string\""
        },
        {
         "metadata": "{}",
         "name": "munResArea",
         "type": "\"string\""
        },
        {
         "metadata": "{}",
         "name": "_ingestion_timestamp",
         "type": "\"timestamp\""
        },
        {
         "metadata": "{}",
         "name": "_source_file",
         "type": "\"string\""
        }
       ],
       "type": "table"
      }
     },
     "output_type": "display_data"
    }
   ],
   "source": [
    "%sql\n",
    "-- A verificação final que agora deve mostrar os dados corretamente preenchidos\n",
    "SELECT * FROM default.bronze_sinasc LIMIT 10;"
   ]
  },
  {
   "cell_type": "markdown",
   "metadata": {
    "application/vnd.databricks.v1+cell": {
     "cellMetadata": {
      "byteLimit": 2048000,
      "rowLimit": 10000
     },
     "inputWidgets": {},
     "nuid": "8008fedf-a330-4d90-b392-e15791225872",
     "showTitle": false,
     "tableResultSettingsMap": {},
     "title": ""
    }
   },
   "source": []
  }
 ],
 "metadata": {
  "application/vnd.databricks.v1+notebook": {
   "computePreferences": null,
   "dashboards": [],
   "environmentMetadata": {
    "base_environment": "",
    "environment_version": "1"
   },
   "inputWidgetPreferences": null,
   "language": "python",
   "notebookMetadata": {
    "mostRecentlyExecutedCommandWithImplicitDF": {
     "commandId": 3029001432734359,
     "dataframes": [
      "_sqldf"
     ]
    },
    "pythonIndentUnit": 4
   },
   "notebookName": "02_Bronze",
   "widgets": {}
  }
 },
 "nbformat": 4,
 "nbformat_minor": 0
}